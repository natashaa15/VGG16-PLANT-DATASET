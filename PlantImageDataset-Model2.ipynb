{
 "cells": [
  {
   "cell_type": "markdown",
   "id": "433c43fb",
   "metadata": {},
   "source": [
    "## VGG16 \n",
    "VGG 16 was proposed by Karen Simonyan and Andrew Zisserman of the Visual Geometry Group Lab of Oxford University in 2014 in the paper “VERY DEEP CONVOLUTIONAL NETWORKS FOR LARGE-SCALE IMAGE RECOGNITION”. Also called VGGNet. It is a convolution neural network (CNN) model supporting 16 layers. "
   ]
  },
  {
   "cell_type": "code",
   "execution_count": 1,
   "id": "48699893",
   "metadata": {},
   "outputs": [],
   "source": [
    "# Import required packages\n",
    "import os\n",
    "import tensorflow as tf\n",
    "import pandas as pd\n",
    "import numpy as np\n",
    "import matplotlib.pyplot as plt\n",
    "from tensorflow.keras.preprocessing.image import ImageDataGenerator\n",
    "\n",
    "# Set the seed for reproducibility\n",
    "tf.random.set_seed(42)"
   ]
  },
  {
   "cell_type": "code",
   "execution_count": 2,
   "id": "02b39911",
   "metadata": {},
   "outputs": [
    {
     "name": "stdout",
     "output_type": "stream",
     "text": [
      "38 38\n"
     ]
    }
   ],
   "source": [
    "# Set the paths to train and valid folders\n",
    "train_path = r'C:\\Users\\KIIT\\PlantDatasetimages\\New Plant Diseases Dataset(Augmented)\\New Plant Diseases Dataset(Augmented)\\train'\n",
    "valid_path = r'C:\\Users\\KIIT\\PlantDatasetimages\\New Plant Diseases Dataset(Augmented)\\New Plant Diseases Dataset(Augmented)\\valid'\n",
    "\n",
    "# Get list of all subfolders for each subset\n",
    "train_dir = os.listdir(train_path)\n",
    "valid_dir = os.listdir(valid_path)\n",
    "\n",
    "print(len(train_dir), len(valid_dir))"
   ]
  },
  {
   "cell_type": "code",
   "execution_count": 3,
   "id": "2657e2d3",
   "metadata": {},
   "outputs": [],
   "source": [
    "# Set the image size and batch size\n",
    "image_size = (224, 224)\n",
    "batch_size = 32"
   ]
  },
  {
   "cell_type": "code",
   "execution_count": 4,
   "id": "b2397055",
   "metadata": {},
   "outputs": [],
   "source": [
    "# Create ImageDataGenerator instances with data augmentation and normalization\n",
    "train_datagen = ImageDataGenerator(\n",
    "    rescale=1./255,\n",
    "    validation_split=0.2,\n",
    "    rotation_range=40,\n",
    "    width_shift_range=0.2,\n",
    "    height_shift_range=0.2,\n",
    "    shear_range=0.2,\n",
    "    zoom_range=0.2,\n",
    "    horizontal_flip=True,\n",
    "    fill_mode='nearest'\n",
    ")\n",
    "\n",
    "valid_datagen = ImageDataGenerator(rescale=1./255, validation_split=0.2)"
   ]
  },
  {
   "cell_type": "code",
   "execution_count": 5,
   "id": "997d82f6",
   "metadata": {},
   "outputs": [
    {
     "name": "stdout",
     "output_type": "stream",
     "text": [
      "Found 56251 images belonging to 38 classes.\n",
      "Found 3503 images belonging to 38 classes.\n"
     ]
    }
   ],
   "source": [
    "# Load and preprocess the training dataset\n",
    "train_generator = train_datagen.flow_from_directory(\n",
    "    train_path,\n",
    "    target_size=image_size,\n",
    "    batch_size=batch_size,\n",
    "    class_mode='categorical',\n",
    "    subset='training'\n",
    ")\n",
    "\n",
    "# Load and preprocess the validation dataset\n",
    "valid_generator = valid_datagen.flow_from_directory(\n",
    "    valid_path,\n",
    "    target_size=image_size,\n",
    "    batch_size=batch_size,\n",
    "    class_mode='categorical',\n",
    "    subset='validation'\n",
    ")"
   ]
  },
  {
   "cell_type": "code",
   "execution_count": 6,
   "id": "55440e37",
   "metadata": {},
   "outputs": [],
   "source": [
    "# Check the number of classes\n",
    "num_classes = len(train_generator.class_indices)"
   ]
  },
  {
   "cell_type": "code",
   "execution_count": 7,
   "id": "f9219994",
   "metadata": {},
   "outputs": [],
   "source": [
    "from tensorflow.keras.applications import VGG16\n",
    "\n",
    "# Load the pre-trained VGG16 model without the top (fully connected) layers\n",
    "base_model = VGG16(weights='imagenet', include_top=False, input_shape=(224, 224, 3))\n",
    "\n",
    "# Freeze the base model's layers\n",
    "base_model.trainable = False"
   ]
  },
  {
   "cell_type": "code",
   "execution_count": 8,
   "id": "7394efb3",
   "metadata": {},
   "outputs": [],
   "source": [
    "# Create the new model architecture by adding the top layers\n",
    "model_vgg16 = tf.keras.Sequential([\n",
    "    base_model,\n",
    "    tf.keras.layers.Flatten(),\n",
    "    tf.keras.layers.Dense(128, activation='relu'),\n",
    "    tf.keras.layers.Dense(num_classes, activation='softmax')\n",
    "])\n",
    "\n",
    "# Compile the model\n",
    "model_vgg16.compile(optimizer='adam', loss='categorical_crossentropy', metrics=['accuracy'])"
   ]
  },
  {
   "cell_type": "code",
   "execution_count": 1,
   "id": "632381e7",
   "metadata": {},
   "outputs": [
    {
     "ename": "NameError",
     "evalue": "name 'model_vgg16' is not defined",
     "output_type": "error",
     "traceback": [
      "\u001b[1;31m---------------------------------------------------------------------------\u001b[0m",
      "\u001b[1;31mNameError\u001b[0m                                 Traceback (most recent call last)",
      "Input \u001b[1;32mIn [1]\u001b[0m, in \u001b[0;36m<cell line: 2>\u001b[1;34m()\u001b[0m\n\u001b[0;32m      1\u001b[0m \u001b[38;5;66;03m# Train the model and get training history\u001b[39;00m\n\u001b[1;32m----> 2\u001b[0m history_vgg16 \u001b[38;5;241m=\u001b[39m \u001b[43mmodel_vgg16\u001b[49m\u001b[38;5;241m.\u001b[39mfit(train_generator, epochs\u001b[38;5;241m=\u001b[39m\u001b[38;5;241m60\u001b[39m, validation_data\u001b[38;5;241m=\u001b[39mvalid_generator)\n",
      "\u001b[1;31mNameError\u001b[0m: name 'model_vgg16' is not defined"
     ]
    }
   ],
   "source": [
    "# Train the model and get training history\n",
    "history_vgg16 = model_vgg16.fit(train_generator, epochs=60, validation_data=valid_generator)"
   ]
  },
  {
   "cell_type": "code",
   "execution_count": 10,
   "id": "24195efd",
   "metadata": {},
   "outputs": [
    {
     "name": "stdout",
     "output_type": "stream",
     "text": [
      "Model saved successfully!\n"
     ]
    }
   ],
   "source": [
    "# Save the model\n",
    "save_dir = r'C:\\Users\\KIIT\\PlantDatasetimages'\n",
    "save_path_vgg16 = os.path.join(save_dir, 'model_vgg16.h5')\n",
    "model_vgg16.save(save_path_vgg16)\n",
    "\n",
    "# Check if the model file exists\n",
    "if os.path.exists(save_path_vgg16):\n",
    "    print(\"Model saved successfully!\")\n",
    "else:\n",
    "    print(\"Failed to save the model.\")"
   ]
  },
  {
   "cell_type": "code",
   "execution_count": 15,
   "id": "b6913b7f",
   "metadata": {},
   "outputs": [
    {
     "data": {
      "image/png": "[encoded data removed]",
      "text/plain": [
       "<Figure size 864x288 with 2 Axes>"
      ]
     },
     "metadata": {
      "needs_background": "light"
     },
     "output_type": "display_data"
    }
   ],
   "source": [
    "# Plot accuracy and loss curves\n",
    "plt.figure(figsize=(12, 4))\n",
    "\n",
    "# Accuracy curve\n",
    "plt.subplot(1, 2, 1)\n",
    "plt.plot(history_vgg16.history['accuracy'])\n",
    "plt.plot(history_vgg16.history['val_accuracy'])\n",
    "plt.title('Model Accuracy')\n",
    "plt.xlabel('Epochs')\n",
    "plt.ylabel('Accuracy')\n",
    "plt.legend(['train', 'valid'])\n",
    "\n",
    "# Loss curve\n",
    "plt.subplot(1, 2, 2)\n",
    "plt.plot(history_vgg16.history['loss'])\n",
    "plt.plot(history_vgg16.history['val_loss'])\n",
    "plt.title('Model Loss')\n",
    "plt.xlabel('Epochs')\n",
    "plt.ylabel('Loss')\n",
    "plt.legend(['train', 'valid'])\n",
    "\n",
    "plt.tight_layout()\n",
    "plt.show()"
   ]
  },
  {
   "cell_type": "code",
   "execution_count": null,
   "id": "54be5798",
   "metadata": {},
   "outputs": [],
   "source": [
    "import os\n",
    "import numpy as np\n",
    "from tensorflow.keras.preprocessing.image import load_img, img_to_array\n",
    "from tensorflow.keras.models import load_model\n",
    "import matplotlib.pyplot as plt\n",
    "from PIL import Image, ImageDraw\n",
    "\n",
    "def test_model(model_path, test_dir, download_output=False):\n",
    "    # Load the trained model\n",
    "    model = load_model(model_path)\n",
    "\n",
    "    # Get the class labels from the training generator\n",
    "    class_labels = list(train_generator.class_indices.keys())\n",
    "\n",
    "    # Initialize lists to store the predicted labels and corresponding image paths\n",
    "    predicted_labels = []\n",
    "    image_paths = []\n",
    "\n",
    "    # Iterate over the images in the test directory\n",
    "    for image_file in os.listdir(test_dir):\n",
    "        # Create the image file path\n",
    "        image_path = os.path.join(test_dir, image_file)\n",
    "        image_paths.append(image_path)\n",
    "\n",
    "        # Load and preprocess the image\n",
    "        image = load_img(image_path, target_size=image_size)\n",
    "        image_array = img_to_array(image) / 255.0\n",
    "        image_array = np.expand_dims(image_array, axis=0)\n",
    "\n",
    "        # Make predictions\n",
    "        prediction = model.predict(image_array)\n",
    "        predicted_label = class_labels[np.argmax(prediction)]\n",
    "        predicted_labels.append(predicted_label)\n",
    "\n",
    "        # Display the image with the predicted label\n",
    "        plt.figure()\n",
    "        plt.imshow(image)\n",
    "        plt.title(\"Predicted Label: \" + predicted_label)\n",
    "        plt.axis('off')\n",
    "\n",
    "    # Print the predicted labels and corresponding image paths in a tabular format\n",
    "    print(\"Image\\t\\t\\t\\tPredicted Label\")\n",
    "    print(\"----------------------------------------------\")\n",
    "    for i in range(len(predicted_labels)):\n",
    "        print(os.path.basename(image_paths[i]), \"\\t\\t\", predicted_labels[i])\n",
    "\n",
    "    # Save the entire output as a single JPG image\n",
    "    if download_output:\n",
    "        output_image = Image.new('RGB', (600, 300 * len(predicted_labels)), color=(255, 255, 255))\n",
    "        y_offset = 0\n",
    "        for i in range(len(predicted_labels)):\n",
    "            image = Image.open(image_paths[i])\n",
    "            output_image.paste(image, (0, y_offset))\n",
    "            draw = ImageDraw.Draw(output_image)\n",
    "            draw.text((image.size[0] + 10, y_offset + 10), predicted_labels[i], fill=(0, 0, 0))\n",
    "            y_offset += image.size[1] + 10\n",
    "        output_image.save(\"output.jpg\")\n",
    "\n",
    "# Specify the path to the trained model and the test directory\n",
    "model_path = r'C:\\Users\\KIIT\\PlantDatasetimages\\model_vgg16.h5'\n",
    "test_directory = r'C:\\Users\\KIIT\\PlantDatasetimages\\test\\test'\n",
    "\n",
    "# Call the test_model function\n",
    "test_model(model_path, test_directory, download_output=True)"
   ]
  },
  {
   "cell_type": "code",
   "execution_count": null,
   "id": "3770a280",
   "metadata": {},
   "outputs": [],
   "source": []
  },
  {
   "cell_type": "code",
   "execution_count": null,
   "id": "3826a422",
   "metadata": {},
   "outputs": [],
   "source": []
  },
  {
   "cell_type": "code",
   "execution_count": null,
   "id": "32bf7f55",
   "metadata": {},
   "outputs": [],
   "source": []
  },
  {
   "cell_type": "code",
   "execution_count": null,
   "id": "0490d34c",
   "metadata": {},
   "outputs": [],
   "source": []
  },
  {
   "cell_type": "code",
   "execution_count": null,
   "id": "ccc2d662",
   "metadata": {},
   "outputs": [],
   "source": []
  }
 ],
 "metadata": {
  "kernelspec": {
   "display_name": "Python 3 (ipykernel)",
   "language": "python",
   "name": "python3"
  },
  "language_info": {
   "codemirror_mode": {
    "name": "ipython",
    "version": 3
   },
   "file_extension": ".py",
   "mimetype": "text/x-python",
   "name": "python",
   "nbconvert_exporter": "python",
   "pygments_lexer": "ipython3",
   "version": "3.9.12"
  }
 },
 "nbformat": 4,
 "nbformat_minor": 5
}
